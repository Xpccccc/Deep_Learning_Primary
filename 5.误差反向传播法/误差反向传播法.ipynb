{
 "cells": [
  {
   "cell_type": "markdown",
   "id": "89ccd9f4",
   "metadata": {},
   "source": [
    "# 误差反向传播法"
   ]
  },
  {
   "cell_type": "markdown",
   "id": "0b1f60ea",
   "metadata": {},
   "source": [
    "## 简单层的实现"
   ]
  },
  {
   "cell_type": "markdown",
   "id": "d9fc9e79",
   "metadata": {},
   "source": [
    "### 乘法层的实现"
   ]
  },
  {
   "cell_type": "code",
   "execution_count": 10,
   "id": "de30efcd",
   "metadata": {
    "ExecuteTime": {
     "end_time": "2024-07-03T04:48:29.989516Z",
     "start_time": "2024-07-03T04:48:29.977460Z"
    }
   },
   "outputs": [],
   "source": [
    "# 乘法层会用到正向传播的输入值\n",
    "class MulLayer:\n",
    "    def __init__(self):\n",
    "        self.x = None\n",
    "        self.y = None\n",
    "    \n",
    "    def forward(self, x, y):\n",
    "        self.x = x\n",
    "        self.y = y\n",
    "        out = x * y\n",
    "        return out\n",
    "    \n",
    "    def backward(self, dout): # dout是前面层穿过来的导数\n",
    "        dx = dout * self.y # 繁转x和y\n",
    "        dy = dout * self.x\n",
    "        return dx, dy"
   ]
  },
  {
   "cell_type": "code",
   "execution_count": 11,
   "id": "0c6b8255",
   "metadata": {
    "ExecuteTime": {
     "end_time": "2024-07-03T04:48:30.422276Z",
     "start_time": "2024-07-03T04:48:30.413946Z"
    }
   },
   "outputs": [
    {
     "name": "stdout",
     "output_type": "stream",
     "text": [
      "220.00000000000003\n"
     ]
    }
   ],
   "source": [
    "apple = 100\n",
    "apple_num = 2\n",
    "tax = 1.1\n",
    "\n",
    "# layer\n",
    "mul_apple_layer = MulLayer()\n",
    "mul_tax_layer = MulLayer()\n",
    "\n",
    "# forward\n",
    "apple_price = mul_apple_layer.forward(apple, apple_num)\n",
    "price = mul_tax_layer.forward(apple_price, tax)\n",
    "print(price) # 220"
   ]
  },
  {
   "cell_type": "code",
   "execution_count": 12,
   "id": "fe21a350",
   "metadata": {
    "ExecuteTime": {
     "end_time": "2024-07-03T04:48:31.150220Z",
     "start_time": "2024-07-03T04:48:31.145556Z"
    }
   },
   "outputs": [
    {
     "name": "stdout",
     "output_type": "stream",
     "text": [
      "2.2 110.00000000000001 200\n"
     ]
    }
   ],
   "source": [
    "# backward\n",
    "dprice = 1\n",
    "dapple_price, dtax = mul_tax_layer.backward(dprice) # mul_tax_layer层（this）# 这里backward里面变量 x,y 分别是apple_price, tax\n",
    "dapple, dapple_num = mul_apple_layer.backward(dapple_price) # mul_apple_layer层（this） #这里backward里面变量 x,y 分别是apple, apple_num\n",
    "print(dapple, dapple_num, dtax) # 2.2 110 200"
   ]
  },
  {
   "cell_type": "markdown",
   "id": "4abfd01c",
   "metadata": {},
   "source": [
    "### 加法层的实现"
   ]
  },
  {
   "cell_type": "code",
   "execution_count": 13,
   "id": "4215bfaf",
   "metadata": {
    "ExecuteTime": {
     "end_time": "2024-07-03T04:48:34.081363Z",
     "start_time": "2024-07-03T04:48:34.072933Z"
    }
   },
   "outputs": [],
   "source": [
    "# 加法层不会用到正向传播的输入值\n",
    "class AddLayer:\n",
    "    def __init__(self):\n",
    "        pass\n",
    "\n",
    "    def forward(self, x, y):\n",
    "        out = x + y\n",
    "        return out\n",
    "\n",
    "    def backward(self, dout):\n",
    "        dx = dout * 1\n",
    "        dy = dout * 1\n",
    "        return dx, dy"
   ]
  },
  {
   "cell_type": "code",
   "execution_count": 14,
   "id": "979cc501",
   "metadata": {
    "ExecuteTime": {
     "end_time": "2024-07-03T04:49:19.375765Z",
     "start_time": "2024-07-03T04:49:19.362868Z"
    }
   },
   "outputs": [
    {
     "name": "stdout",
     "output_type": "stream",
     "text": [
      "715.0000000000001\n",
      "110.00000000000001 2.2 3.3000000000000003 165.0 650\n"
     ]
    }
   ],
   "source": [
    "apple = 100\n",
    "apple_num = 2\n",
    "orange = 150\n",
    "orange_num = 3\n",
    "tax = 1.1\n",
    "\n",
    "# layer\n",
    "mul_apple_layer = MulLayer()\n",
    "mul_orange_layer = MulLayer()\n",
    "add_apple_orange_layer = AddLayer()\n",
    "mul_tax_layer = MulLayer()\n",
    "\n",
    "# forward\n",
    "apple_price = mul_apple_layer.forward(apple, apple_num) #(1)\n",
    "orange_price = mul_orange_layer.forward(orange, orange_num) #(2)\n",
    "all_price = add_apple_orange_layer.forward(apple_price, orange_price) #(3)\n",
    "price = mul_tax_layer.forward(all_price, tax) #(4)\n",
    "\n",
    "# backward\n",
    "dprice = 1\n",
    "dall_price, dtax = mul_tax_layer.backward(dprice) #(4)\n",
    "dapple_price, dorange_price = add_apple_orange_layer.backward(dall_price) #(3)\n",
    "dorange, dorange_num = mul_orange_layer.backward(dorange_price) #(2)\n",
    "dapple, dapple_num = mul_apple_layer.backward(dapple_price) #(1)\n",
    "print(price) # 715\n",
    "print(dapple_num, dapple, dorange, dorange_num, dtax) # 110 2.2 3.3 165 650"
   ]
  },
  {
   "cell_type": "markdown",
   "id": "ee49d5c5",
   "metadata": {},
   "source": [
    "## 激活函数层的实现"
   ]
  },
  {
   "cell_type": "markdown",
   "id": "78068c7a",
   "metadata": {},
   "source": [
    "### ReLU层"
   ]
  },
  {
   "cell_type": "code",
   "execution_count": 15,
   "id": "8d8179e2",
   "metadata": {
    "ExecuteTime": {
     "end_time": "2024-07-03T05:01:38.357102Z",
     "start_time": "2024-07-03T05:01:38.349557Z"
    }
   },
   "outputs": [],
   "source": [
    "class Relu:\n",
    "    def __init__(self):\n",
    "        self.mask = None\n",
    "    \n",
    "    def forward(self, x):\n",
    "        self.mask = (x <= 0) # mask是存True/False的，这里就是x<=0存为True\n",
    "        out = x.copy()\n",
    "        out[self.mask] = 0\n",
    "        return out\n",
    "    \n",
    "    def backward(self, dout):\n",
    "        dout[self.mask] = 0\n",
    "        dx = dout\n",
    "        return dx"
   ]
  },
  {
   "cell_type": "markdown",
   "id": "ac281c77",
   "metadata": {},
   "source": [
    "### Sigmoid层"
   ]
  },
  {
   "cell_type": "code",
   "execution_count": 16,
   "id": "fa682eee",
   "metadata": {
    "ExecuteTime": {
     "end_time": "2024-07-03T05:19:58.218655Z",
     "start_time": "2024-07-03T05:19:58.210701Z"
    }
   },
   "outputs": [],
   "source": [
    "# 通过推导，可以省略中间计算，简化为反向传播结果只需要用到正向传播的结果即可\n",
    "class Sigmoid:\n",
    "    def __init__(self):\n",
    "        self.out = None\n",
    "        \n",
    "    def forward(self, x):\n",
    "        out = 1 / (1 + np.exp(-x))\n",
    "        self.out = out\n",
    "        return out\n",
    "    \n",
    "    def backward(self, dout):\n",
    "        dx = dout * (1.0 - self.out) * self.out\n",
    "        return dx"
   ]
  },
  {
   "cell_type": "markdown",
   "id": "671931b4",
   "metadata": {},
   "source": [
    "## Affine/Softmax层的实现"
   ]
  },
  {
   "cell_type": "markdown",
   "id": "79046733",
   "metadata": {},
   "source": [
    "### Affine层"
   ]
  },
  {
   "cell_type": "code",
   "execution_count": 17,
   "id": "e419f1ed",
   "metadata": {
    "ExecuteTime": {
     "end_time": "2024-07-03T09:09:10.345183Z",
     "start_time": "2024-07-03T09:09:10.337994Z"
    }
   },
   "outputs": [],
   "source": [
    "class Affine:\n",
    "    def __init__(self, W, b):\n",
    "        self.W = W\n",
    "        self.b = b\n",
    "        self.x = None\n",
    "        self.dW = None\n",
    "        self.db = None\n",
    "        \n",
    "    def forward(self, x):\n",
    "        self.x = x\n",
    "        out = np.dot(x, self.W) + self.b\n",
    "        return out\n",
    "    \n",
    "    def backward(self, dout):\n",
    "        dx = np.dot(dout, self.W.T)\n",
    "        self.dW = np.dot(self.x.T, dout)\n",
    "        self.db = np.sum(dout, axis=0) # 由于偏置 b 对每一个数据样本都是相同的贡献，因此每个数据样本的梯度都需要对偏置进行累加，最终得到偏置的总梯度\n",
    "        return dx"
   ]
  },
  {
   "cell_type": "markdown",
   "id": "90ea3611",
   "metadata": {},
   "source": [
    "### Softmax-with-Loss层"
   ]
  },
  {
   "cell_type": "code",
   "execution_count": 18,
   "id": "44fe680f",
   "metadata": {
    "ExecuteTime": {
     "end_time": "2024-07-03T09:23:08.169486Z",
     "start_time": "2024-07-03T09:23:08.160622Z"
    }
   },
   "outputs": [],
   "source": [
    "class SoftmaxWithLoss:\n",
    "    def __init__(self):\n",
    "        self.loss = None # 损失\n",
    "        self.y = None # softmax的输出\n",
    "        self.t = None # 监督数据（one-hot vector）\n",
    "        \n",
    "    def forward(self, x, t):\n",
    "        self.t = t\n",
    "        self.y = softmax(x)\n",
    "        self.loss = cross_entropy_error(self.y, self.t)\n",
    "        return self.loss\n",
    "    \n",
    "    def backward(self, dout=1):\n",
    "        batch_size = self.t.shape[0]\n",
    "        dx = (self.y - self.t) / batch_size\n",
    "        return dx"
   ]
  },
  {
   "cell_type": "markdown",
   "id": "cd4662b1",
   "metadata": {},
   "source": [
    "## 误差反向传播法的实现"
   ]
  },
  {
   "cell_type": "markdown",
   "id": "0a6ecdf8",
   "metadata": {},
   "source": [
    "### 对应误差反向传播法的实现的神经网络的实现"
   ]
  },
  {
   "cell_type": "code",
   "execution_count": 15,
   "id": "b708c291",
   "metadata": {
    "ExecuteTime": {
     "end_time": "2024-07-04T12:10:24.885196Z",
     "start_time": "2024-07-04T12:10:24.866937Z"
    }
   },
   "outputs": [],
   "source": [
    "import sys, os\n",
    "sys.path.append(os.pardir)\n",
    "import numpy as np\n",
    "from common.layers import *\n",
    "from common.gradient import numerical_gradient\n",
    "from collections import OrderedDict\n",
    "\n",
    "class TwoLayerNet:\n",
    "    def __init__(self, input_size, hidden_size, output_size, weight_init_std=0.01):\n",
    "        # 初始化权重\n",
    "        self.params = {}\n",
    "        self.params['W1'] = weight_init_std *  np.random.randn(input_size, hidden_size)\n",
    "        self.params['b1'] = np.zeros(hidden_size)\n",
    "        self.params['W2'] = weight_init_std *  np.random.randn(hidden_size, output_size)\n",
    "        self.params['b2'] = np.zeros(output_size)\n",
    "        # 生成层\n",
    "        self.layers = OrderedDict()\n",
    "        self.layers['Affine1'] =  Affine(self.params['W1'], self.params['b1'])\n",
    "        self.layers['Relu1'] = Relu()\n",
    "        self.layers['Affine2'] =  Affine(self.params['W2'], self.params['b2'])\n",
    "        self.lastLayer = SoftmaxWithLoss()\n",
    "    \n",
    "    def predict(self, x):\n",
    "        for layer in self.layers.values():\n",
    "            x = layer.forward(x)\n",
    "        return x\n",
    "    \n",
    "    # x:输入数据, t:监督数据\n",
    "    def loss(self, x, t):\n",
    "        y = self.predict(x)\n",
    "        return self.lastLayer.forward(y, t)\n",
    "    \n",
    "    def accuracy(self, x, t):\n",
    "        y = self.predict(x)\n",
    "        y = np.argmax(y, axis=1)\n",
    "        if t.ndim != 1 : \n",
    "            t = np.argmax(t, axis=1)\n",
    "        accuracy = np.sum(y == t) / float(x.shape[0])\n",
    "        return accuracy\n",
    "    \n",
    "    # x:输入数据, t:监督数据\n",
    "    def numerical_gradient(self, x, t):\n",
    "        loss_W = lambda W: self.loss(x, t)\n",
    "        grads = {}\n",
    "        grads['W1'] = numerical_gradient(loss_W, self.params['W1'])\n",
    "        grads['b1'] = numerical_gradient(loss_W, self.params['b1'])\n",
    "        grads['W2'] = numerical_gradient(loss_W, self.params['W2'])\n",
    "        grads['b2'] = numerical_gradient(loss_W, self.params['b2'])\n",
    "        return grads\n",
    "\n",
    "    def gradient(self, x, t):\n",
    "        # forward\n",
    "        self.loss(x, t)\n",
    "        # backward\n",
    "        dout = 1\n",
    "        dout = self.lastLayer.backward(dout)\n",
    "        layers = list(self.layers.values())\n",
    "        layers.reverse()\n",
    "        for layer in layers:\n",
    "            dout = layer.backward(dout)\n",
    "        # 设定\n",
    "        grads = {}\n",
    "        grads['W1'] = self.layers['Affine1'].dW\n",
    "        grads['b1'] = self.layers['Affine1'].db\n",
    "        grads['W2'] = self.layers['Affine2'].dW\n",
    "        grads['b2'] = self.layers['Affine2'].db\n",
    "        return grads"
   ]
  },
  {
   "cell_type": "markdown",
   "id": "60b5e9ea",
   "metadata": {},
   "source": [
    "### 误差反向传播法的梯度确认"
   ]
  },
  {
   "cell_type": "code",
   "execution_count": 17,
   "id": "8acc9532",
   "metadata": {
    "ExecuteTime": {
     "end_time": "2024-07-04T12:14:05.558022Z",
     "start_time": "2024-07-04T12:13:51.155960Z"
    }
   },
   "outputs": [
    {
     "name": "stdout",
     "output_type": "stream",
     "text": [
      "Downloading train-images-idx3-ubyte.gz ... \n",
      "Done\n",
      "Downloading train-labels-idx1-ubyte.gz ... \n",
      "Done\n",
      "Downloading t10k-images-idx3-ubyte.gz ... \n",
      "Done\n",
      "Downloading t10k-labels-idx1-ubyte.gz ... \n",
      "Done\n",
      "Converting train-images-idx3-ubyte.gz to NumPy Array ...\n",
      "Done\n",
      "Converting train-labels-idx1-ubyte.gz to NumPy Array ...\n",
      "Done\n",
      "Converting t10k-images-idx3-ubyte.gz to NumPy Array ...\n",
      "Done\n",
      "Converting t10k-labels-idx1-ubyte.gz to NumPy Array ...\n",
      "Done\n",
      "Creating pickle file ...\n",
      "Done!\n",
      "W1:4.0849601953905587e-10\n",
      "b1:2.2158536661006635e-09\n",
      "W2:6.28152396111308e-09\n",
      "b2:1.4025737109651936e-07\n"
     ]
    }
   ],
   "source": [
    "import sys, os\n",
    "sys.path.append(os.pardir)\n",
    "import numpy as np\n",
    "from dataset.mnist import load_mnist\n",
    "from two_layer_net import TwoLayerNet\n",
    "\n",
    "# 读入数据\n",
    "(x_train, t_train), (x_test, t_test) =  load_mnist(normalize=True, one_hot_label = True)\n",
    "network = TwoLayerNet(input_size=784, hidden_size=50, output_size=10)\n",
    "x_batch = x_train[:3]\n",
    "t_batch = t_train[:3]\n",
    "grad_numerical = network.numerical_gradient(x_batch, t_batch)\n",
    "grad_backprop = network.gradient(x_batch, t_batch)\n",
    "\n",
    "# 求各个权重的绝对误差的平均值\n",
    "for key in grad_numerical.keys():\n",
    "    diff = np.average( np.abs(grad_backprop[key] - grad_numerical[key]) )\n",
    "    print(key + \":\" + str(diff))"
   ]
  },
  {
   "cell_type": "markdown",
   "id": "e3e54e59",
   "metadata": {},
   "source": [
    "### 使用误差反向传播法的学习"
   ]
  },
  {
   "cell_type": "code",
   "execution_count": 21,
   "id": "8f1e5405",
   "metadata": {
    "ExecuteTime": {
     "end_time": "2024-07-04T12:24:19.769665Z",
     "start_time": "2024-07-04T12:23:02.824379Z"
    }
   },
   "outputs": [
    {
     "name": "stdout",
     "output_type": "stream",
     "text": [
      "600.0\n",
      "0.11833333333333333 0.1168\n",
      "0.11851666666666667 0.1169\n",
      "0.12515 0.1241\n",
      "0.1304 0.1295\n",
      "0.9047 0.9099\n",
      "0.9047666666666667 0.9099\n",
      "0.90565 0.9105\n",
      "0.9056333333333333 0.9106\n",
      "0.9223666666666667 0.9254\n",
      "0.92245 0.9255\n",
      "0.9196833333333333 0.923\n",
      "0.9197166666666666 0.9231\n",
      "0.9332166666666667 0.9333\n",
      "0.9332 0.9333\n",
      "0.9325 0.9331\n",
      "0.9324666666666667 0.9331\n",
      "0.9434333333333333 0.9425\n",
      "0.9435 0.9424\n",
      "0.9433666666666667 0.9426\n",
      "0.9433666666666667 0.9427\n",
      "0.9502833333333334 0.9493\n",
      "0.9502833333333334 0.9493\n",
      "0.95035 0.9497\n",
      "0.9503666666666667 0.9497\n",
      "0.9567166666666667 0.9548\n",
      "0.9567833333333333 0.9548\n",
      "0.9564166666666667 0.9544\n",
      "0.9563666666666667 0.9544\n",
      "0.9601166666666666 0.956\n",
      "0.9601333333333333 0.956\n",
      "0.9602166666666667 0.9559\n",
      "0.9602166666666667 0.9559\n",
      "0.9635333333333334 0.9607\n",
      "0.9635666666666667 0.9606\n",
      "0.96315 0.9605\n",
      "0.9631666666666666 0.9605\n",
      "0.9660666666666666 0.9606\n",
      "0.9660666666666666 0.9606\n",
      "0.96615 0.9607\n",
      "0.9661833333333333 0.9607\n",
      "0.9682166666666666 0.964\n",
      "0.9682166666666666 0.964\n",
      "0.96835 0.9645\n",
      "0.96835 0.9645\n",
      "0.9708333333333333 0.964\n",
      "0.9708833333333333 0.964\n",
      "0.9710166666666666 0.9643\n",
      "0.971 0.9643\n",
      "0.97165 0.9644\n",
      "0.9716166666666667 0.9644\n",
      "0.9714833333333334 0.9639\n",
      "0.9714833333333334 0.9639\n",
      "0.9735166666666667 0.9679\n",
      "0.9735166666666667 0.9679\n",
      "0.97355 0.9675\n",
      "0.97355 0.9674\n",
      "0.9747166666666667 0.9677\n",
      "0.9747 0.9676\n",
      "0.9745666666666667 0.9672\n",
      "0.9745833333333334 0.9672\n",
      "0.9766833333333333 0.968\n",
      "0.9766666666666667 0.968\n",
      "0.9766833333333333 0.9679\n",
      "0.9766833333333333 0.9679\n",
      "0.9774666666666667 0.9686\n",
      "0.9774833333333334 0.9686\n",
      "0.9774 0.9686\n",
      "0.9774 0.9686\n"
     ]
    }
   ],
   "source": [
    "import sys, os\n",
    "sys.path.append(os.pardir)\n",
    "import numpy as np\n",
    "from dataset.mnist import load_mnist\n",
    "from two_layer_net import TwoLayerNet\n",
    "\n",
    "# 读入数据\n",
    "(x_train, t_train), (x_test, t_test) =  load_mnist(normalize=True, one_hot_label=True)\n",
    "network = TwoLayerNet(input_size=784, hidden_size=50, output_size=10)\n",
    "iters_num = 10000\n",
    "train_size = x_train.shape[0]\n",
    "batch_size = 100\n",
    "learning_rate = 0.1\n",
    "train_loss_list = []\n",
    "train_acc_list = []\n",
    "test_acc_list = []\n",
    "iter_per_epoch = max(train_size / batch_size, 1)\n",
    "print(iter_per_epoch)\n",
    "\n",
    "for i in range(iters_num):\n",
    "    batch_mask = np.random.choice(train_size, batch_size)\n",
    "    x_batch = x_train[batch_mask]\n",
    "    t_batch = t_train[batch_mask]\n",
    "    # 通过误差反向传播法求梯度\n",
    "    grad = network.gradient(x_batch, t_batch)\n",
    "    # 更新\n",
    "    for key in ('W1', 'b1', 'W2', 'b2'):\n",
    "        network.params[key] -= learning_rate * grad[key]\n",
    "        loss = network.loss(x_batch, t_batch)\n",
    "        train_loss_list.append(loss)\n",
    "        if i % iter_per_epoch == 0:\n",
    "            train_acc = network.accuracy(x_train, t_train)\n",
    "            test_acc = network.accuracy(x_test, t_test)\n",
    "            train_acc_list.append(train_acc)\n",
    "            test_acc_list.append(test_acc)\n",
    "            print(train_acc, test_acc)"
   ]
  }
 ],
 "metadata": {
  "kernelspec": {
   "display_name": "Python 3 (ipykernel)",
   "language": "python",
   "name": "python3"
  },
  "language_info": {
   "codemirror_mode": {
    "name": "ipython",
    "version": 3
   },
   "file_extension": ".py",
   "mimetype": "text/x-python",
   "name": "python",
   "nbconvert_exporter": "python",
   "pygments_lexer": "ipython3",
   "version": "3.11.4"
  },
  "toc": {
   "base_numbering": 1,
   "nav_menu": {},
   "number_sections": true,
   "sideBar": true,
   "skip_h1_title": false,
   "title_cell": "Table of Contents",
   "title_sidebar": "Contents",
   "toc_cell": false,
   "toc_position": {},
   "toc_section_display": true,
   "toc_window_display": false
  }
 },
 "nbformat": 4,
 "nbformat_minor": 5
}
