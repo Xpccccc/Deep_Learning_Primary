{
 "cells": [
  {
   "cell_type": "markdown",
   "id": "9b75bf0a",
   "metadata": {},
   "source": [
    "# 感知机"
   ]
  },
  {
   "cell_type": "markdown",
   "id": "8188e12c",
   "metadata": {},
   "source": [
    "## 感知机的实现"
   ]
  },
  {
   "cell_type": "markdown",
   "id": "cf7e413e",
   "metadata": {},
   "source": [
    "### 简单的实现"
   ]
  },
  {
   "cell_type": "code",
   "execution_count": 3,
   "id": "9801a73a",
   "metadata": {
    "ExecuteTime": {
     "end_time": "2024-06-22T03:37:00.505977Z",
     "start_time": "2024-06-22T03:37:00.496044Z"
    }
   },
   "outputs": [],
   "source": [
    "def AND(x1, x2):\n",
    "    w1, w2, theta = 0.5, 0.5, 0.7\n",
    "    tmp = x1*w1 + x2*w2\n",
    "    if tmp <= theta:\n",
    "        return 0\n",
    "    elif tmp > theta:\n",
    "        return 1"
   ]
  },
  {
   "cell_type": "code",
   "execution_count": 6,
   "id": "0e5e3c36",
   "metadata": {
    "ExecuteTime": {
     "end_time": "2024-06-22T03:37:29.075669Z",
     "start_time": "2024-06-22T03:37:29.065719Z"
    }
   },
   "outputs": [
    {
     "data": {
      "text/plain": [
       "0"
      ]
     },
     "execution_count": 6,
     "metadata": {},
     "output_type": "execute_result"
    }
   ],
   "source": [
    "AND(0, 0) # 输出0"
   ]
  },
  {
   "cell_type": "code",
   "execution_count": 7,
   "id": "5651f4ce",
   "metadata": {
    "ExecuteTime": {
     "end_time": "2024-06-22T03:37:37.206055Z",
     "start_time": "2024-06-22T03:37:37.194712Z"
    }
   },
   "outputs": [
    {
     "data": {
      "text/plain": [
       "0"
      ]
     },
     "execution_count": 7,
     "metadata": {},
     "output_type": "execute_result"
    }
   ],
   "source": [
    "AND(1, 0) # 输出0"
   ]
  },
  {
   "cell_type": "code",
   "execution_count": 8,
   "id": "6bc8cf16",
   "metadata": {
    "ExecuteTime": {
     "end_time": "2024-06-22T03:37:40.732754Z",
     "start_time": "2024-06-22T03:37:40.722629Z"
    }
   },
   "outputs": [
    {
     "data": {
      "text/plain": [
       "0"
      ]
     },
     "execution_count": 8,
     "metadata": {},
     "output_type": "execute_result"
    }
   ],
   "source": [
    "AND(0, 1) # 输出0"
   ]
  },
  {
   "cell_type": "code",
   "execution_count": 9,
   "id": "9ee7ef52",
   "metadata": {
    "ExecuteTime": {
     "end_time": "2024-06-22T03:37:42.317269Z",
     "start_time": "2024-06-22T03:37:42.306963Z"
    }
   },
   "outputs": [
    {
     "data": {
      "text/plain": [
       "1"
      ]
     },
     "execution_count": 9,
     "metadata": {},
     "output_type": "execute_result"
    }
   ],
   "source": [
    "AND(1, 1) # 输出1"
   ]
  },
  {
   "cell_type": "markdown",
   "id": "69e8e0bd",
   "metadata": {},
   "source": [
    "### 导入权重和偏置"
   ]
  },
  {
   "cell_type": "code",
   "execution_count": 10,
   "id": "904c32a6",
   "metadata": {
    "ExecuteTime": {
     "end_time": "2024-06-22T03:39:12.601947Z",
     "start_time": "2024-06-22T03:39:12.505430Z"
    }
   },
   "outputs": [
    {
     "data": {
      "text/plain": [
       "array([0. , 0.5])"
      ]
     },
     "execution_count": 10,
     "metadata": {},
     "output_type": "execute_result"
    }
   ],
   "source": [
    "import numpy as np\n",
    "x = np.array([0, 1]) # 输入\n",
    "w = np.array([0.5, 0.5]) # 权重\n",
    "b = -0.7 # 偏置\n",
    "w*x"
   ]
  },
  {
   "cell_type": "code",
   "execution_count": 14,
   "id": "64c7d926",
   "metadata": {
    "ExecuteTime": {
     "end_time": "2024-06-22T03:39:44.047671Z",
     "start_time": "2024-06-22T03:39:44.042226Z"
    }
   },
   "outputs": [
    {
     "data": {
      "text/plain": [
       "0.5"
      ]
     },
     "execution_count": 14,
     "metadata": {},
     "output_type": "execute_result"
    }
   ],
   "source": [
    "np.sum(w*x)"
   ]
  },
  {
   "cell_type": "code",
   "execution_count": 15,
   "id": "3830ed07",
   "metadata": {
    "ExecuteTime": {
     "end_time": "2024-06-22T03:39:44.511514Z",
     "start_time": "2024-06-22T03:39:44.503332Z"
    }
   },
   "outputs": [
    {
     "data": {
      "text/plain": [
       "-0.19999999999999996"
      ]
     },
     "execution_count": 15,
     "metadata": {},
     "output_type": "execute_result"
    }
   ],
   "source": [
    "np.sum(w*x) + b"
   ]
  },
  {
   "cell_type": "markdown",
   "id": "beede17d",
   "metadata": {
    "ExecuteTime": {
     "end_time": "2024-06-22T03:40:55.083904Z",
     "start_time": "2024-06-22T03:40:55.073678Z"
    }
   },
   "source": [
    "### 使用权重和偏置的实现"
   ]
  },
  {
   "cell_type": "code",
   "execution_count": 17,
   "id": "f39509d3",
   "metadata": {
    "ExecuteTime": {
     "end_time": "2024-06-22T03:41:35.856889Z",
     "start_time": "2024-06-22T03:41:35.845014Z"
    }
   },
   "outputs": [],
   "source": [
    "def AND(x1, x2):\n",
    "    x = np.array([x1, x2])\n",
    "    w = np.array([0.5, 0.5])\n",
    "    b = -0.7\n",
    "    tmp = np.sum(w*x) + b\n",
    "    if tmp <= 0:\n",
    "        return 0\n",
    "    else:\n",
    "        return 1"
   ]
  },
  {
   "cell_type": "code",
   "execution_count": 18,
   "id": "c7c7731c",
   "metadata": {
    "ExecuteTime": {
     "end_time": "2024-06-22T03:42:25.369678Z",
     "start_time": "2024-06-22T03:42:25.362413Z"
    }
   },
   "outputs": [],
   "source": [
    "def NAND(x1, x2):\n",
    "    x = np.array([x1, x2])\n",
    "    w = np.array([-0.5, -0.5]) # 仅权重和偏置与AND不同！\n",
    "    b = 0.7\n",
    "    tmp = np.sum(w*x) + b\n",
    "    if tmp <= 0:\n",
    "        return 0\n",
    "    else:\n",
    "        return 1"
   ]
  },
  {
   "cell_type": "code",
   "execution_count": 19,
   "id": "0bb396af",
   "metadata": {
    "ExecuteTime": {
     "end_time": "2024-06-22T03:42:51.175995Z",
     "start_time": "2024-06-22T03:42:51.167677Z"
    }
   },
   "outputs": [],
   "source": [
    "def OR(x1, x2):\n",
    "    x = np.array([x1, x2])\n",
    "    w = np.array([0.5, 0.5]) # 仅权重和偏置与AND不同！\n",
    "    b = -0.2\n",
    "    tmp = np.sum(w*x) + b\n",
    "    if tmp <= 0:\n",
    "        return 0\n",
    "    else:\n",
    "        return 1"
   ]
  },
  {
   "cell_type": "markdown",
   "id": "81a6c39e",
   "metadata": {},
   "source": [
    "## 多层感知机"
   ]
  },
  {
   "cell_type": "markdown",
   "id": "23051ea3",
   "metadata": {},
   "source": [
    "### 异或门的实现"
   ]
  },
  {
   "cell_type": "code",
   "execution_count": 21,
   "id": "ee7bce7b",
   "metadata": {
    "ExecuteTime": {
     "end_time": "2024-06-22T03:44:19.496196Z",
     "start_time": "2024-06-22T03:44:19.489031Z"
    }
   },
   "outputs": [],
   "source": [
    "def XOR(x1, x2):\n",
    "    s1 = NAND(x1, x2)\n",
    "    s2 = OR(x1, x2)\n",
    "    y = AND(s1, s2)\n",
    "    return y"
   ]
  },
  {
   "cell_type": "code",
   "execution_count": 22,
   "id": "3cb1a7ed",
   "metadata": {
    "ExecuteTime": {
     "end_time": "2024-06-22T03:44:35.310718Z",
     "start_time": "2024-06-22T03:44:35.299284Z"
    }
   },
   "outputs": [
    {
     "data": {
      "text/plain": [
       "0"
      ]
     },
     "execution_count": 22,
     "metadata": {},
     "output_type": "execute_result"
    }
   ],
   "source": [
    "XOR(0, 0) # 输出0"
   ]
  },
  {
   "cell_type": "code",
   "execution_count": 23,
   "id": "7c458a57",
   "metadata": {
    "ExecuteTime": {
     "end_time": "2024-06-22T03:44:40.039162Z",
     "start_time": "2024-06-22T03:44:40.028822Z"
    }
   },
   "outputs": [
    {
     "data": {
      "text/plain": [
       "1"
      ]
     },
     "execution_count": 23,
     "metadata": {},
     "output_type": "execute_result"
    }
   ],
   "source": [
    "XOR(1, 0) # 输出1"
   ]
  },
  {
   "cell_type": "code",
   "execution_count": 24,
   "id": "4f5332da",
   "metadata": {
    "ExecuteTime": {
     "end_time": "2024-06-22T03:44:44.380196Z",
     "start_time": "2024-06-22T03:44:44.369207Z"
    }
   },
   "outputs": [
    {
     "data": {
      "text/plain": [
       "1"
      ]
     },
     "execution_count": 24,
     "metadata": {},
     "output_type": "execute_result"
    }
   ],
   "source": [
    "XOR(0, 1) # 输出1"
   ]
  },
  {
   "cell_type": "code",
   "execution_count": 25,
   "id": "8dc0bc5f",
   "metadata": {
    "ExecuteTime": {
     "end_time": "2024-06-22T03:44:46.108989Z",
     "start_time": "2024-06-22T03:44:46.097394Z"
    }
   },
   "outputs": [
    {
     "data": {
      "text/plain": [
       "0"
      ]
     },
     "execution_count": 25,
     "metadata": {},
     "output_type": "execute_result"
    }
   ],
   "source": [
    "XOR(1, 1) # 输出0"
   ]
  }
 ],
 "metadata": {
  "kernelspec": {
   "display_name": "Python 3 (ipykernel)",
   "language": "python",
   "name": "python3"
  },
  "language_info": {
   "codemirror_mode": {
    "name": "ipython",
    "version": 3
   },
   "file_extension": ".py",
   "mimetype": "text/x-python",
   "name": "python",
   "nbconvert_exporter": "python",
   "pygments_lexer": "ipython3",
   "version": "3.11.4"
  },
  "toc": {
   "base_numbering": 1,
   "nav_menu": {},
   "number_sections": true,
   "sideBar": true,
   "skip_h1_title": false,
   "title_cell": "Table of Contents",
   "title_sidebar": "Contents",
   "toc_cell": false,
   "toc_position": {},
   "toc_section_display": true,
   "toc_window_display": false
  }
 },
 "nbformat": 4,
 "nbformat_minor": 5
}
