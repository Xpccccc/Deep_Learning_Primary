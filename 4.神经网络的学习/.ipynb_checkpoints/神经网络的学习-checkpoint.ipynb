{
 "cells": [
  {
   "cell_type": "markdown",
   "id": "0ccbd2dd",
   "metadata": {},
   "source": [
    "# 神经网络的学习 "
   ]
  },
  {
   "cell_type": "markdown",
   "id": "ce52dc49",
   "metadata": {},
   "source": [
    "## 损失函数 "
   ]
  },
  {
   "cell_type": "markdown",
   "id": "59a29719",
   "metadata": {},
   "source": [
    "### 均方误差"
   ]
  },
  {
   "cell_type": "code",
   "execution_count": 4,
   "id": "4536199b",
   "metadata": {
    "ExecuteTime": {
     "end_time": "2024-06-27T08:39:20.604067Z",
     "start_time": "2024-06-27T08:39:20.506988Z"
    }
   },
   "outputs": [],
   "source": [
    "import numpy as np\n",
    "def mean_squared_error(y, t):\n",
    "    return 0.5 * np.sum((y-t)**2)"
   ]
  },
  {
   "cell_type": "code",
   "execution_count": 6,
   "id": "426ef4c5",
   "metadata": {
    "ExecuteTime": {
     "end_time": "2024-06-27T08:39:30.708553Z",
     "start_time": "2024-06-27T08:39:30.698150Z"
    }
   },
   "outputs": [
    {
     "data": {
      "text/plain": [
       "0.09750000000000003"
      ]
     },
     "execution_count": 6,
     "metadata": {},
     "output_type": "execute_result"
    }
   ],
   "source": [
    "# 设“2”为正确解\n",
    "t = [0, 0, 1, 0, 0, 0, 0, 0, 0, 0]\n",
    "\n",
    "# 例1: “2”的概率最高的情况（0.6）\n",
    "y = [0.1, 0.05, 0.6, 0.0, 0.05, 0.1, 0.0, 0.1, 0.0, 0.0]\n",
    "mean_squared_error(np.array(y), np.array(t))"
   ]
  },
  {
   "cell_type": "code",
   "execution_count": 7,
   "id": "bddce55e",
   "metadata": {
    "ExecuteTime": {
     "end_time": "2024-06-27T08:39:33.924205Z",
     "start_time": "2024-06-27T08:39:33.913909Z"
    }
   },
   "outputs": [
    {
     "data": {
      "text/plain": [
       "0.5975"
      ]
     },
     "execution_count": 7,
     "metadata": {},
     "output_type": "execute_result"
    }
   ],
   "source": [
    "# 例2: “7”的概率最高的情况（0.6）\n",
    "y = [0.1, 0.05, 0.1, 0.0, 0.05, 0.1, 0.0, 0.6, 0.0, 0.0]\n",
    "mean_squared_error(np.array(y), np.array(t))"
   ]
  },
  {
   "cell_type": "markdown",
   "id": "d5da59b6",
   "metadata": {},
   "source": []
  },
  {
   "cell_type": "markdown",
   "id": "97feaa2d",
   "metadata": {},
   "source": [
    "### 交叉熵误差"
   ]
  },
  {
   "cell_type": "code",
   "execution_count": 10,
   "id": "2e38d4ae",
   "metadata": {
    "ExecuteTime": {
     "end_time": "2024-06-27T08:41:03.548678Z",
     "start_time": "2024-06-27T08:41:03.545460Z"
    }
   },
   "outputs": [],
   "source": [
    "def cross_entropy_error(y, t):\n",
    "    delta = 1e-7\n",
    "    return -np.sum(t * np.log(y + delta))"
   ]
  },
  {
   "cell_type": "code",
   "execution_count": 11,
   "id": "8b104c48",
   "metadata": {
    "ExecuteTime": {
     "end_time": "2024-06-27T08:41:04.004393Z",
     "start_time": "2024-06-27T08:41:03.990628Z"
    }
   },
   "outputs": [
    {
     "data": {
      "text/plain": [
       "0.510825457099338"
      ]
     },
     "execution_count": 11,
     "metadata": {},
     "output_type": "execute_result"
    }
   ],
   "source": [
    "# 设“2”为正确解\n",
    "t = [0, 0, 1, 0, 0, 0, 0, 0, 0, 0]\n",
    "\n",
    "# 例1: “2”的概率最高的情况（0.6）\n",
    "y = [0.1, 0.05, 0.6, 0.0, 0.05, 0.1, 0.0, 0.1, 0.0, 0.0]\n",
    "cross_entropy_error(np.array(y), np.array(t))"
   ]
  },
  {
   "cell_type": "code",
   "execution_count": 12,
   "id": "3fa3f651",
   "metadata": {
    "ExecuteTime": {
     "end_time": "2024-06-27T08:41:04.618792Z",
     "start_time": "2024-06-27T08:41:04.606939Z"
    }
   },
   "outputs": [
    {
     "data": {
      "text/plain": [
       "2.302584092994546"
      ]
     },
     "execution_count": 12,
     "metadata": {},
     "output_type": "execute_result"
    }
   ],
   "source": [
    "# 例2: “7”的概率最高的情况（0.6）\n",
    "y = [0.1, 0.05, 0.1, 0.0, 0.05, 0.1, 0.0, 0.6, 0.0, 0.0]\n",
    "cross_entropy_error(np.array(y), np.array(t))"
   ]
  },
  {
   "cell_type": "markdown",
   "id": "d6f893ce",
   "metadata": {},
   "source": [
    "### mini-batch学习"
   ]
  },
  {
   "cell_type": "code",
   "execution_count": 1,
   "id": "16972e2b",
   "metadata": {
    "ExecuteTime": {
     "end_time": "2024-06-27T08:45:17.419860Z",
     "start_time": "2024-06-27T08:45:17.257187Z"
    }
   },
   "outputs": [
    {
     "name": "stdout",
     "output_type": "stream",
     "text": [
      "(60000, 784)\n",
      "(60000, 10)\n"
     ]
    }
   ],
   "source": [
    "import sys, os\n",
    "sys.path.append(os.pardir)\n",
    "import numpy as np\n",
    "from dataset.mnist import load_mnist\n",
    "\n",
    "(x_train, t_train), (x_test, t_test) = load_mnist(normalize=True, one_hot_label=True)\n",
    "\n",
    "print(x_train.shape) # (60000, 784)\n",
    "print(t_train.shape) # (60000, 10)"
   ]
  },
  {
   "cell_type": "code",
   "execution_count": 2,
   "id": "ebe2f433",
   "metadata": {
    "ExecuteTime": {
     "end_time": "2024-06-27T08:45:34.046219Z",
     "start_time": "2024-06-27T08:45:34.034743Z"
    }
   },
   "outputs": [],
   "source": [
    "train_size = x_train.shape[0]\n",
    "batch_size = 10\n",
    "batch_mask = np.random.choice(train_size, batch_size)\n",
    "x_batch = x_train[batch_mask]\n",
    "t_batch = t_train[batch_mask]"
   ]
  },
  {
   "cell_type": "code",
   "execution_count": 3,
   "id": "51825ef8",
   "metadata": {
    "ExecuteTime": {
     "end_time": "2024-06-27T08:45:48.756073Z",
     "start_time": "2024-06-27T08:45:48.739908Z"
    }
   },
   "outputs": [
    {
     "data": {
      "text/plain": [
       "array([49958,  6595, 27143, 59191, 42384, 54703, 11784, 22644, 48319,\n",
       "       32572])"
      ]
     },
     "execution_count": 3,
     "metadata": {},
     "output_type": "execute_result"
    }
   ],
   "source": [
    "np.random.choice(60000, 10)"
   ]
  },
  {
   "cell_type": "markdown",
   "id": "9b87ca48",
   "metadata": {},
   "source": [
    "### mini-batch版交叉熵误差的实现"
   ]
  },
  {
   "cell_type": "code",
   "execution_count": 5,
   "id": "d7d28a38",
   "metadata": {
    "ExecuteTime": {
     "end_time": "2024-06-27T08:47:06.886594Z",
     "start_time": "2024-06-27T08:47:06.878327Z"
    }
   },
   "outputs": [],
   "source": [
    "def cross_entropy_error(y, t):\n",
    "    if y.ndim == 1:\n",
    "        t = t.reshape(1, t.size)\n",
    "        y = y.reshape(1, y.size)\n",
    "    batch_size = y.shape[0]\n",
    "    return -np.sum(t * np.log(y + 1e-7)) / batch_size"
   ]
  },
  {
   "cell_type": "code",
   "execution_count": 6,
   "id": "f5c6c5cb",
   "metadata": {
    "ExecuteTime": {
     "end_time": "2024-06-27T08:48:33.055080Z",
     "start_time": "2024-06-27T08:48:33.041961Z"
    }
   },
   "outputs": [],
   "source": [
    "# 此外，当监督数据是标签形式（非one-hot表示，而是像“2”“7”这样的标签）时，交叉熵误差可通过如下代码实现\n",
    "def cross_entropy_error(y, t):\n",
    "    if y.ndim == 1:\n",
    "        t = t.reshape(1, t.size)\n",
    "        y = y.reshape(1, y.size)\n",
    "    batch_size = y.shape[0]\n",
    "    return -np.sum(np.log(y[np.arange(batch_size), t] + 1e-7)) / batch_size"
   ]
  },
  {
   "cell_type": "markdown",
   "id": "af2cfbf7",
   "metadata": {},
   "source": [
    "## 数值微分"
   ]
  },
  {
   "cell_type": "markdown",
   "id": "9747c3c0",
   "metadata": {},
   "source": [
    "### 导数"
   ]
  },
  {
   "cell_type": "code",
   "execution_count": 15,
   "id": "cf1b4645",
   "metadata": {
    "ExecuteTime": {
     "end_time": "2024-06-29T12:56:15.139010Z",
     "start_time": "2024-06-29T12:56:15.126677Z"
    }
   },
   "outputs": [],
   "source": [
    "# 不好的实现示例\n",
    "def numerical_diff(f, x):\n",
    "    h = 10e-50\n",
    "    return (f(x+h) - f(x)) / h"
   ]
  },
  {
   "cell_type": "code",
   "execution_count": 16,
   "id": "b493707f",
   "metadata": {
    "ExecuteTime": {
     "end_time": "2024-06-29T12:56:15.149628Z",
     "start_time": "2024-06-29T12:56:15.143543Z"
    }
   },
   "outputs": [
    {
     "data": {
      "text/plain": [
       "0.0"
      ]
     },
     "execution_count": 16,
     "metadata": {},
     "output_type": "execute_result"
    }
   ],
   "source": [
    "np.float32(1e-50)"
   ]
  },
  {
   "cell_type": "code",
   "execution_count": 17,
   "id": "424e2f36",
   "metadata": {
    "ExecuteTime": {
     "end_time": "2024-06-29T12:56:15.153116Z",
     "start_time": "2024-06-29T12:56:15.151214Z"
    }
   },
   "outputs": [],
   "source": [
    "def numerical_diff(f, x):\n",
    "    h = 1e-4 # 0.0001\n",
    "    return (f(x+h) - f(x-h)) / (2*h)"
   ]
  },
  {
   "cell_type": "markdown",
   "id": "d93399af",
   "metadata": {},
   "source": [
    "### 数值微分的例子"
   ]
  },
  {
   "cell_type": "code",
   "execution_count": 18,
   "id": "d7258ca5",
   "metadata": {
    "ExecuteTime": {
     "end_time": "2024-06-29T12:56:15.156483Z",
     "start_time": "2024-06-29T12:56:15.154800Z"
    }
   },
   "outputs": [],
   "source": [
    "def function_1(x):\n",
    "    return 0.01*x**2 + 0.1*x"
   ]
  },
  {
   "cell_type": "code",
   "execution_count": 19,
   "id": "c675f04d",
   "metadata": {
    "ExecuteTime": {
     "end_time": "2024-06-29T12:56:15.218040Z",
     "start_time": "2024-06-29T12:56:15.157277Z"
    }
   },
   "outputs": [
    {
     "data": {
      "image/png": "[encoded data removed]",
      "text/plain": [
       "<Figure size 640x480 with 1 Axes>"
      ]
     },
     "metadata": {},
     "output_type": "display_data"
    }
   ],
   "source": [
    "import numpy as np\n",
    "import matplotlib.pylab as plt\n",
    "\n",
    "x = np.arange(0.0, 20.0, 0.1) # 以0.1为单位，从0到20的数组x\n",
    "y = function_1(x)\n",
    "plt.xlabel(\"x\")\n",
    "plt.ylabel(\"f(x)\")\n",
    "plt.plot(x, y)\n",
    "plt.show()"
   ]
  },
  {
   "cell_type": "code",
   "execution_count": 20,
   "id": "165add49",
   "metadata": {
    "ExecuteTime": {
     "end_time": "2024-06-29T12:56:15.221272Z",
     "start_time": "2024-06-29T12:56:15.218968Z"
    }
   },
   "outputs": [
    {
     "data": {
      "text/plain": [
       "0.1999999999990898"
      ]
     },
     "execution_count": 20,
     "metadata": {},
     "output_type": "execute_result"
    }
   ],
   "source": [
    "numerical_diff(function_1, 5)"
   ]
  },
  {
   "cell_type": "code",
   "execution_count": 21,
   "id": "fb3f557d",
   "metadata": {
    "ExecuteTime": {
     "end_time": "2024-06-29T12:56:15.224315Z",
     "start_time": "2024-06-29T12:56:15.222038Z"
    }
   },
   "outputs": [
    {
     "data": {
      "text/plain": [
       "0.2999999999986347"
      ]
     },
     "execution_count": 21,
     "metadata": {},
     "output_type": "execute_result"
    }
   ],
   "source": [
    "numerical_diff(function_1, 10)"
   ]
  },
  {
   "cell_type": "code",
   "execution_count": 22,
   "id": "965bd4d1",
   "metadata": {
    "ExecuteTime": {
     "end_time": "2024-06-29T12:56:15.371411Z",
     "start_time": "2024-06-29T12:56:15.225064Z"
    }
   },
   "outputs": [
    {
     "name": "stdout",
     "output_type": "stream",
     "text": [
      "0.1999999999990898\n"
     ]
    },
    {
     "data": {
      "image/png": "[encoded data removed]",
      "text/plain": [
       "<Figure size 640x480 with 1 Axes>"
      ]
     },
     "metadata": {},
     "output_type": "display_data"
    },
    {
     "name": "stdout",
     "output_type": "stream",
     "text": [
      "0.2999999999986347\n"
     ]
    },
    {
     "data": {
      "image/png": "[encoded data removed]",
      "text/plain": [
       "<Figure size 640x480 with 1 Axes>"
      ]
     },
     "metadata": {},
     "output_type": "display_data"
    }
   ],
   "source": [
    "# coding: utf-8\n",
    "import numpy as np\n",
    "import matplotlib.pylab as plt\n",
    "\n",
    "\n",
    "def numerical_diff(f, x):\n",
    "    h = 1e-4 # 0.0001\n",
    "    return (f(x+h) - f(x-h)) / (2*h)\n",
    "\n",
    "\n",
    "def function_1(x):\n",
    "    return 0.01*x**2 + 0.1*x \n",
    "\n",
    "\n",
    "def tangent_line(f, x):\n",
    "    d = numerical_diff(f, x)\n",
    "    print(d)\n",
    "    y = f(x) - d*x\n",
    "    return lambda t: d*t + y\n",
    "     \n",
    "x = np.arange(0.0, 20.0, 0.1)\n",
    "y = function_1(x)\n",
    "plt.xlabel(\"x\")\n",
    "plt.ylabel(\"f(x)\")\n",
    "\n",
    "tf = tangent_line(function_1, 5)\n",
    "y2 = tf(x)\n",
    "\n",
    "plt.plot(x, y)\n",
    "plt.plot(x, y2)\n",
    "\n",
    "plt.show()\n",
    "\n",
    "tf = tangent_line(function_1, 10)\n",
    "y2 = tf(x)\n",
    "\n",
    "plt.plot(x, y)\n",
    "plt.plot(x, y2)\n",
    "plt.show()\n",
    "\n"
   ]
  },
  {
   "cell_type": "markdown",
   "id": "cb0fdecb",
   "metadata": {},
   "source": [
    "### 偏导数"
   ]
  },
  {
   "cell_type": "code",
   "execution_count": 23,
   "id": "5c3f0377",
   "metadata": {
    "ExecuteTime": {
     "end_time": "2024-06-29T12:56:15.374334Z",
     "start_time": "2024-06-29T12:56:15.372482Z"
    }
   },
   "outputs": [],
   "source": [
    "def function_2(x):\n",
    "    return x[0]**2 + x[1]**2\n",
    "    # 或者return np.sum(x**2)"
   ]
  },
  {
   "cell_type": "code",
   "execution_count": 24,
   "id": "f843429e",
   "metadata": {
    "ExecuteTime": {
     "end_time": "2024-06-29T12:56:15.379398Z",
     "start_time": "2024-06-29T12:56:15.376630Z"
    }
   },
   "outputs": [
    {
     "data": {
      "text/plain": [
       "6.00000000000378"
      ]
     },
     "execution_count": 24,
     "metadata": {},
     "output_type": "execute_result"
    }
   ],
   "source": [
    "# 求x0 = 3, x1 = 4时，关于x0的偏导数\n",
    "def function_tmp1(x0):\n",
    "    return x0*x0 + 4.0**2.0\n",
    "\n",
    "numerical_diff(function_tmp1, 3.0)"
   ]
  },
  {
   "cell_type": "code",
   "execution_count": 25,
   "id": "7a203543",
   "metadata": {
    "ExecuteTime": {
     "end_time": "2024-06-29T12:56:15.382852Z",
     "start_time": "2024-06-29T12:56:15.380467Z"
    }
   },
   "outputs": [
    {
     "data": {
      "text/plain": [
       "7.999999999999119"
      ]
     },
     "execution_count": 25,
     "metadata": {},
     "output_type": "execute_result"
    }
   ],
   "source": [
    "# 求x0 = 3, x1 = 4时，关于x1的偏导数\n",
    "def function_tmp2(x1):\n",
    "    return 3.0**2.0 + x1*x1\n",
    "\n",
    "numerical_diff(function_tmp1, 4.0)"
   ]
  },
  {
   "cell_type": "markdown",
   "id": "fb901da9",
   "metadata": {},
   "source": [
    "## 梯度"
   ]
  },
  {
   "cell_type": "code",
   "execution_count": 26,
   "id": "21dbb974",
   "metadata": {
    "ExecuteTime": {
     "end_time": "2024-06-29T12:56:15.386061Z",
     "start_time": "2024-06-29T12:56:15.384033Z"
    }
   },
   "outputs": [],
   "source": [
    "def numerical_gradient(f, x):\n",
    "    h = 1e-4 # 0.0001\n",
    "    grad = np.zeros_like(x) # 生成和x形状相同的数组\n",
    "    for idx in range(x.size):\n",
    "        tmp_val = x[idx]\n",
    "        # f(x+h)的计算\n",
    "        x[idx] = tmp_val + h\n",
    "        fxh1 = f(x)\n",
    "        \n",
    "        # f(x-h)的计算\n",
    "        x[idx] = tmp_val - h\n",
    "        fxh2 = f(x)\n",
    "\n",
    "        grad[idx] = (fxh1 - fxh2) / (2*h)\n",
    "        x[idx] = tmp_val # 还原值\n",
    "\n",
    "    return grad"
   ]
  },
  {
   "cell_type": "code",
   "execution_count": 27,
   "id": "1e9ef7ca",
   "metadata": {
    "ExecuteTime": {
     "end_time": "2024-06-29T12:56:15.389326Z",
     "start_time": "2024-06-29T12:56:15.387001Z"
    }
   },
   "outputs": [
    {
     "data": {
      "text/plain": [
       "array([6., 8.])"
      ]
     },
     "execution_count": 27,
     "metadata": {},
     "output_type": "execute_result"
    }
   ],
   "source": [
    "numerical_gradient(function_2, np.array([3.0, 4.0]))"
   ]
  },
  {
   "cell_type": "code",
   "execution_count": 28,
   "id": "19c3f5e4",
   "metadata": {
    "ExecuteTime": {
     "end_time": "2024-06-29T12:56:15.392089Z",
     "start_time": "2024-06-29T12:56:15.390053Z"
    }
   },
   "outputs": [
    {
     "data": {
      "text/plain": [
       "array([0., 4.])"
      ]
     },
     "execution_count": 28,
     "metadata": {},
     "output_type": "execute_result"
    }
   ],
   "source": [
    "numerical_gradient(function_2, np.array([0.0, 2.0]))"
   ]
  },
  {
   "cell_type": "code",
   "execution_count": 29,
   "id": "ef6e1554",
   "metadata": {
    "ExecuteTime": {
     "end_time": "2024-06-29T12:56:15.396038Z",
     "start_time": "2024-06-29T12:56:15.392849Z"
    }
   },
   "outputs": [
    {
     "data": {
      "text/plain": [
       "array([6., 0.])"
      ]
     },
     "execution_count": 29,
     "metadata": {},
     "output_type": "execute_result"
    }
   ],
   "source": [
    "numerical_gradient(function_2, np.array([3.0, 0.0]))"
   ]
  },
  {
   "cell_type": "code",
   "execution_count": 30,
   "id": "99df1f1b",
   "metadata": {
    "ExecuteTime": {
     "end_time": "2024-06-29T12:56:15.471372Z",
     "start_time": "2024-06-29T12:56:15.396867Z"
    }
   },
   "outputs": [
    {
     "data": {
      "image/png": "[encoded data removed]",
      "text/plain": [
       "<Figure size 640x480 with 1 Axes>"
      ]
     },
     "metadata": {},
     "output_type": "display_data"
    }
   ],
   "source": [
    "# coding: utf-8\n",
    "# cf.http://d.hatena.ne.jp/white_wheels/20100327/p3\n",
    "import numpy as np\n",
    "import matplotlib.pylab as plt\n",
    "from mpl_toolkits.mplot3d import Axes3D\n",
    "\n",
    "\n",
    "def _numerical_gradient_no_batch(f, x):\n",
    "    h = 1e-4  # 0.0001\n",
    "    grad = np.zeros_like(x)\n",
    "    \n",
    "    for idx in range(x.size):\n",
    "        tmp_val = x[idx]\n",
    "        x[idx] = float(tmp_val) + h\n",
    "        fxh1 = f(x)  # f(x+h)\n",
    "        \n",
    "        x[idx] = tmp_val - h \n",
    "        fxh2 = f(x)  # f(x-h)\n",
    "        grad[idx] = (fxh1 - fxh2) / (2*h)\n",
    "        \n",
    "        x[idx] = tmp_val  # 値を元に戻す\n",
    "        \n",
    "    return grad\n",
    "\n",
    "\n",
    "def numerical_gradient(f, X):\n",
    "    if X.ndim == 1:\n",
    "        return _numerical_gradient_no_batch(f, X)\n",
    "    else:\n",
    "        grad = np.zeros_like(X)\n",
    "        \n",
    "        for idx, x in enumerate(X):\n",
    "            grad[idx] = _numerical_gradient_no_batch(f, x)\n",
    "        \n",
    "        return grad\n",
    "\n",
    "\n",
    "def function_2(x):\n",
    "    if x.ndim == 1:\n",
    "        return np.sum(x**2)\n",
    "    else:\n",
    "        return np.sum(x**2, axis=1)\n",
    "\n",
    "\n",
    "def tangent_line(f, x):\n",
    "    d = numerical_gradient(f, x)\n",
    "    print(d)\n",
    "    y = f(x) - d*x\n",
    "    return lambda t: d*t + y\n",
    "\n",
    "\n",
    "if __name__ == '__main__':\n",
    "    x0 = np.arange(-2, 2.5, 0.25)\n",
    "    x1 = np.arange(-2, 2.5, 0.25)\n",
    "    X, Y = np.meshgrid(x0, x1)\n",
    "    \n",
    "    X = X.flatten()\n",
    "    Y = Y.flatten()\n",
    "\n",
    "    grad = numerical_gradient(function_2, np.array([X, Y]).T).T\n",
    "\n",
    "    plt.figure()\n",
    "    plt.quiver(X, Y, -grad[0], -grad[1],  angles=\"xy\",color=\"#666666\")\n",
    "    plt.xlim([-2, 2])\n",
    "    plt.ylim([-2, 2])\n",
    "    plt.xlabel('x0')\n",
    "    plt.ylabel('x1')\n",
    "    plt.grid()\n",
    "    plt.draw()\n",
    "    plt.show()"
   ]
  },
  {
   "cell_type": "markdown",
   "id": "ac82dfd2",
   "metadata": {},
   "source": [
    "### 梯度法 "
   ]
  },
  {
   "cell_type": "code",
   "execution_count": 31,
   "id": "dd804f8c",
   "metadata": {
    "ExecuteTime": {
     "end_time": "2024-06-29T12:56:15.475485Z",
     "start_time": "2024-06-29T12:56:15.473568Z"
    }
   },
   "outputs": [],
   "source": [
    "def gradient_descent(f, init_x, lr=0.01, step_num=100):\n",
    "    x = init_x\n",
    "    for i in range(step_num):\n",
    "        grad = numerical_gradient(f, x)\n",
    "        x -= lr * grad\n",
    "    return x"
   ]
  },
  {
   "cell_type": "code",
   "execution_count": 32,
   "id": "e1923da3",
   "metadata": {
    "ExecuteTime": {
     "end_time": "2024-06-29T12:56:49.879329Z",
     "start_time": "2024-06-29T12:56:49.867548Z"
    }
   },
   "outputs": [
    {
     "data": {
      "text/plain": [
       "array([-6.11110793e-10,  8.14814391e-10])"
      ]
     },
     "execution_count": 32,
     "metadata": {},
     "output_type": "execute_result"
    }
   ],
   "source": [
    "def function_2(x):\n",
    "    return x[0]**2 + x[1]**2\n",
    "\n",
    "init_x = np.array([-3.0, 4.0])\n",
    "gradient_descent(function_2, init_x=init_x, lr=0.1, step_num=100)"
   ]
  },
  {
   "cell_type": "code",
   "execution_count": 34,
   "id": "7949a1fc",
   "metadata": {
    "ExecuteTime": {
     "end_time": "2024-06-29T12:59:19.763402Z",
     "start_time": "2024-06-29T12:59:19.680841Z"
    }
   },
   "outputs": [
    {
     "data": {
      "image/png": "[encoded data removed]",
      "text/plain": [
       "<Figure size 640x480 with 1 Axes>"
      ]
     },
     "metadata": {},
     "output_type": "display_data"
    }
   ],
   "source": [
    "# coding: utf-8\n",
    "import numpy as np\n",
    "import matplotlib.pylab as plt\n",
    "\n",
    "\n",
    "def gradient_descent(f, init_x, lr=0.01, step_num=100):\n",
    "    x = init_x\n",
    "    x_history = []\n",
    "\n",
    "    for i in range(step_num):\n",
    "        x_history.append( x.copy() )\n",
    "\n",
    "        grad = numerical_gradient(f, x)\n",
    "        x -= lr * grad\n",
    "\n",
    "    return x, np.array(x_history)\n",
    "\n",
    "\n",
    "def function_2(x):\n",
    "    return x[0]**2 + x[1]**2\n",
    "\n",
    "init_x = np.array([-3.0, 4.0])    \n",
    "\n",
    "lr = 0.1\n",
    "step_num = 20\n",
    "x, x_history = gradient_descent(function_2, init_x, lr=lr, step_num=step_num)\n",
    "\n",
    "plt.plot( [-5, 5], [0,0], '--b')\n",
    "plt.plot( [0,0], [-5, 5], '--b')\n",
    "plt.plot(x_history[:,0], x_history[:,1], 'o')\n",
    "\n",
    "plt.xlim(-3.5, 3.5)\n",
    "plt.ylim(-4.5, 4.5)\n",
    "plt.xlabel(\"X0\")\n",
    "plt.ylabel(\"X1\")\n",
    "plt.show()"
   ]
  },
  {
   "cell_type": "markdown",
   "id": "06e166e7",
   "metadata": {},
   "source": [
    "### 神经网络的梯度"
   ]
  },
  {
   "cell_type": "code",
   "execution_count": 1,
   "id": "036040e0",
   "metadata": {
    "ExecuteTime": {
     "end_time": "2024-06-29T15:42:38.731758Z",
     "start_time": "2024-06-29T15:42:38.659677Z"
    }
   },
   "outputs": [],
   "source": [
    "import sys, os\n",
    "sys.path.append(os.pardir)\n",
    "import numpy as np\n",
    "from common.functions import softmax, cross_entropy_error\n",
    "from common.gradient import numerical_gradient\n",
    "\n",
    "class simpleNet:\n",
    "    def __init__(self):\n",
    "        self.W = np.random.randn(2,3) # 用高斯分布进行初始化\n",
    "        \n",
    "    def predict(self, x):\n",
    "        return np.dot(x, self.W)\n",
    "    \n",
    "    def loss(self, x, t):\n",
    "        z = self.predict(x)\n",
    "        y = softmax(z)\n",
    "        loss = cross_entropy_error(y, t)\n",
    "        return loss"
   ]
  },
  {
   "cell_type": "code",
   "execution_count": 2,
   "id": "608c2343",
   "metadata": {
    "ExecuteTime": {
     "end_time": "2024-06-29T15:42:39.553973Z",
     "start_time": "2024-06-29T15:42:39.548195Z"
    }
   },
   "outputs": [],
   "source": [
    "net = simpleNet()"
   ]
  },
  {
   "cell_type": "code",
   "execution_count": 3,
   "id": "7efb7312",
   "metadata": {
    "ExecuteTime": {
     "end_time": "2024-06-29T15:42:44.974819Z",
     "start_time": "2024-06-29T15:42:44.965393Z"
    }
   },
   "outputs": [
    {
     "name": "stdout",
     "output_type": "stream",
     "text": [
      "[[-0.74885408  0.10222224 -1.50633619]\n",
      " [-0.20411874 -0.4285344  -1.17426766]]\n"
     ]
    }
   ],
   "source": [
    "print(net.W) # 权重参数"
   ]
  },
  {
   "cell_type": "code",
   "execution_count": 4,
   "id": "1979a379",
   "metadata": {
    "ExecuteTime": {
     "end_time": "2024-06-29T15:42:45.723775Z",
     "start_time": "2024-06-29T15:42:45.717107Z"
    }
   },
   "outputs": [],
   "source": [
    "x = np.array([0.6, 0.9])"
   ]
  },
  {
   "cell_type": "code",
   "execution_count": 5,
   "id": "60e182ea",
   "metadata": {
    "ExecuteTime": {
     "end_time": "2024-06-29T15:42:46.575238Z",
     "start_time": "2024-06-29T15:42:46.568573Z"
    }
   },
   "outputs": [
    {
     "name": "stdout",
     "output_type": "stream",
     "text": [
      "[-0.63301932 -0.32434761 -1.96064261]\n"
     ]
    }
   ],
   "source": [
    "p = net.predict(x)\n",
    "print(p)"
   ]
  },
  {
   "cell_type": "code",
   "execution_count": 6,
   "id": "2983917e",
   "metadata": {
    "ExecuteTime": {
     "end_time": "2024-06-29T15:42:48.529437Z",
     "start_time": "2024-06-29T15:42:48.518056Z"
    }
   },
   "outputs": [
    {
     "data": {
      "text/plain": [
       "1"
      ]
     },
     "execution_count": 6,
     "metadata": {},
     "output_type": "execute_result"
    }
   ],
   "source": [
    "np.argmax(p) # 最大值的索引"
   ]
  },
  {
   "cell_type": "code",
   "execution_count": 7,
   "id": "c6c5c078",
   "metadata": {
    "ExecuteTime": {
     "end_time": "2024-06-29T15:42:49.053067Z",
     "start_time": "2024-06-29T15:42:49.044279Z"
    }
   },
   "outputs": [
    {
     "data": {
      "text/plain": [
       "0.9657363746123259"
      ]
     },
     "execution_count": 7,
     "metadata": {},
     "output_type": "execute_result"
    }
   ],
   "source": [
    "t = np.array([1, 0, 0]) # 正确解标签\n",
    "net.loss(x, t)"
   ]
  },
  {
   "cell_type": "code",
   "execution_count": 8,
   "id": "10722bb5",
   "metadata": {
    "ExecuteTime": {
     "end_time": "2024-06-29T15:42:49.483343Z",
     "start_time": "2024-06-29T15:42:49.478146Z"
    }
   },
   "outputs": [],
   "source": [
    "def f(W):\n",
    "    return net.loss(x, t)\n",
    "\n",
    "dW = numerical_gradient(f, net.W)"
   ]
  },
  {
   "cell_type": "code",
   "execution_count": 9,
   "id": "61347d3c",
   "metadata": {
    "ExecuteTime": {
     "end_time": "2024-06-29T15:42:49.952439Z",
     "start_time": "2024-06-29T15:42:49.946014Z"
    }
   },
   "outputs": [],
   "source": [
    "# 或者\n",
    "f = lambda w: net.loss(x, t)\n",
    "dW = numerical_gradient(f, net.W)"
   ]
  },
  {
   "cell_type": "markdown",
   "id": "9030f327",
   "metadata": {},
   "source": [
    "## 学习算法的实现"
   ]
  },
  {
   "cell_type": "markdown",
   "id": "0b9ae781",
   "metadata": {},
   "source": [
    "### 2层神经网络的类"
   ]
  },
  {
   "cell_type": "code",
   "execution_count": 1,
   "id": "b7fd688e",
   "metadata": {
    "ExecuteTime": {
     "end_time": "2024-07-02T13:43:46.220979Z",
     "start_time": "2024-07-02T13:43:46.128587Z"
    }
   },
   "outputs": [],
   "source": [
    "import sys, os\n",
    "sys.path.append(os.pardir)\n",
    "from common.functions import *\n",
    "from common.gradient import numerical_gradient\n",
    "\n",
    "class TwoLayerNet:\n",
    "    def __init__(self, input_size, hidden_size, output_size,\n",
    "        weight_init_std=0.01):\n",
    "        # 初始化权重\n",
    "        self.params = {}\n",
    "        # weight_init_std -- 所有的权重除以100\n",
    "        self.params['W1'] = weight_init_std * np.random.randn(input_size, hidden_size)\n",
    "        self.params['b1'] = np.zeros(hidden_size)\n",
    "        self.params['W2'] = weight_init_std *  np.random.randn(hidden_size, output_size)\n",
    "        self.params['b2'] = np.zeros(output_size)\n",
    "    \n",
    "    def predict(self, x):\n",
    "        W1, W2 = self.params['W1'], self.params['W2']\n",
    "        b1, b2 = self.params['b1'], self.params['b2']\n",
    "        a1 = np.dot(x, W1) + b1\n",
    "        z1 = sigmoid(a1)\n",
    "        a2 = np.dot(z1, W2) + b2\n",
    "        y = softmax(a2)\n",
    "        return y\n",
    "    \n",
    "    # x:输入数据, t:监督数据\n",
    "    def loss(self, x, t):\n",
    "        y = self.predict(x)\n",
    "        return cross_entropy_error(y, t)\n",
    "        \n",
    "    def accuracy(self, x, t):\n",
    "        y = self.predict(x) # 这里y的形状是（output_size,1)\n",
    "        y = np.argmax(y, axis=1)\n",
    "        t = np.argmax(t, axis=1)\n",
    "        accuracy = np.sum(y == t) / float(x.shape[0])\n",
    "        return accuracy\n",
    "    \n",
    "    # x:输入数据, t:监督数据\n",
    "    def numerical_gradient(self, x, t):\n",
    "        loss_W = lambda W: self.loss(x, t)\n",
    "        grads = {}\n",
    "        grads['W1'] = numerical_gradient(loss_W, self.params['W1'])\n",
    "        grads['b1'] = numerical_gradient(loss_W, self.params['b1'])\n",
    "        grads['W2'] = numerical_gradient(loss_W, self.params['W2'])\n",
    "        grads['b2'] = numerical_gradient(loss_W, self.params['b2'])\n",
    "        return grads"
   ]
  },
  {
   "cell_type": "code",
   "execution_count": 2,
   "id": "652df2e2",
   "metadata": {
    "ExecuteTime": {
     "end_time": "2024-07-02T13:43:47.625106Z",
     "start_time": "2024-07-02T13:43:47.604544Z"
    }
   },
   "outputs": [
    {
     "data": {
      "text/plain": [
       "(784, 100)"
      ]
     },
     "execution_count": 2,
     "metadata": {},
     "output_type": "execute_result"
    }
   ],
   "source": [
    "net = TwoLayerNet(input_size=784, hidden_size=100, output_size=10)\n",
    "net.params['W1'].shape # (784, 100)"
   ]
  },
  {
   "cell_type": "code",
   "execution_count": 3,
   "id": "d3c43280",
   "metadata": {
    "ExecuteTime": {
     "end_time": "2024-07-02T13:43:48.179274Z",
     "start_time": "2024-07-02T13:43:48.170283Z"
    }
   },
   "outputs": [
    {
     "data": {
      "text/plain": [
       "(100,)"
      ]
     },
     "execution_count": 3,
     "metadata": {},
     "output_type": "execute_result"
    }
   ],
   "source": [
    "net.params['b1'].shape # (100,)"
   ]
  },
  {
   "cell_type": "code",
   "execution_count": 4,
   "id": "28fa7df0",
   "metadata": {
    "ExecuteTime": {
     "end_time": "2024-07-02T13:43:48.526403Z",
     "start_time": "2024-07-02T13:43:48.510653Z"
    }
   },
   "outputs": [
    {
     "data": {
      "text/plain": [
       "(100, 10)"
      ]
     },
     "execution_count": 4,
     "metadata": {},
     "output_type": "execute_result"
    }
   ],
   "source": [
    "net.params['W2'].shape # (100, 10)"
   ]
  },
  {
   "cell_type": "code",
   "execution_count": 5,
   "id": "d53408a9",
   "metadata": {
    "ExecuteTime": {
     "end_time": "2024-07-02T13:43:49.106590Z",
     "start_time": "2024-07-02T13:43:49.094812Z"
    }
   },
   "outputs": [
    {
     "data": {
      "text/plain": [
       "(10,)"
      ]
     },
     "execution_count": 5,
     "metadata": {},
     "output_type": "execute_result"
    }
   ],
   "source": [
    "net.params['b2'].shape # (10,)"
   ]
  },
  {
   "cell_type": "code",
   "execution_count": 6,
   "id": "4f9cd7d3",
   "metadata": {
    "ExecuteTime": {
     "end_time": "2024-07-02T13:43:50.673980Z",
     "start_time": "2024-07-02T13:43:50.612579Z"
    }
   },
   "outputs": [],
   "source": [
    "x = np.random.rand(100, 784) # 伪输入数据（100笔）\n",
    "y = net.predict(x)"
   ]
  },
  {
   "cell_type": "code",
   "execution_count": 7,
   "id": "44573f89",
   "metadata": {
    "ExecuteTime": {
     "end_time": "2024-07-02T13:46:03.289000Z",
     "start_time": "2024-07-02T13:43:51.107871Z"
    }
   },
   "outputs": [
    {
     "data": {
      "text/plain": [
       "(784, 100)"
      ]
     },
     "execution_count": 7,
     "metadata": {},
     "output_type": "execute_result"
    }
   ],
   "source": [
    "x = np.random.rand(100, 784) # 伪输入数据（100笔）\n",
    "t = np.random.rand(100, 10) # 伪正确解标签（100笔）\n",
    "grads = net.numerical_gradient(x, t) # 计算梯度\n",
    "grads['W1'].shape # (784, 100)"
   ]
  },
  {
   "cell_type": "code",
   "execution_count": null,
   "id": "7e46d2dd",
   "metadata": {
    "ExecuteTime": {
     "start_time": "2024-07-02T13:48:39.164Z"
    }
   },
   "outputs": [],
   "source": [
    "grads['b1'].shape # (100,)"
   ]
  },
  {
   "cell_type": "code",
   "execution_count": 9,
   "id": "ce2b1b1f",
   "metadata": {
    "ExecuteTime": {
     "end_time": "2024-06-29T15:46:10.711267Z",
     "start_time": "2024-06-29T15:46:10.706488Z"
    }
   },
   "outputs": [
    {
     "data": {
      "text/plain": [
       "(100, 10)"
      ]
     },
     "execution_count": 9,
     "metadata": {},
     "output_type": "execute_result"
    }
   ],
   "source": [
    "grads['W2'].shape # (100, 10)"
   ]
  },
  {
   "cell_type": "code",
   "execution_count": 10,
   "id": "b633237d",
   "metadata": {
    "ExecuteTime": {
     "end_time": "2024-06-29T15:46:12.621311Z",
     "start_time": "2024-06-29T15:46:12.608579Z"
    }
   },
   "outputs": [
    {
     "data": {
      "text/plain": [
       "(10,)"
      ]
     },
     "execution_count": 10,
     "metadata": {},
     "output_type": "execute_result"
    }
   ],
   "source": [
    "grads['b2'].shape # (10,)"
   ]
  },
  {
   "cell_type": "markdown",
   "id": "a19d30e5",
   "metadata": {},
   "source": [
    "### mini-batch的实现"
   ]
  },
  {
   "cell_type": "code",
   "execution_count": null,
   "id": "9e2abfd9",
   "metadata": {
    "ExecuteTime": {
     "start_time": "2024-07-02T13:44:40.684Z"
    }
   },
   "outputs": [],
   "source": [
    "import numpy as np\n",
    "from dataset.mnist import load_mnist\n",
    "from two_layer_net import TwoLayerNet\n",
    "\n",
    "(x_train, t_train), (x_test, t_test) =  load_mnist(normalize=True, one_hot_label = True)\n",
    "\n",
    "train_loss_list = []\n",
    "\n",
    "# 超参数\n",
    "iters_num = 10000\n",
    "train_size = x_train.shape[0]\n",
    "batch_size = 100\n",
    "learning_rate = 0.1\n",
    "\n",
    "network = TwoLayerNet(input_size=784, hidden_size=50, output_size=10) # 构造函数对象\n",
    "for i in range(iters_num):\n",
    "    # 获取mini-batch\n",
    "    batch_mask = np.random.choice(train_size, batch_size)\n",
    "    x_batch = x_train[batch_mask]\n",
    "    t_batch = t_train[batch_mask]\n",
    "    # 计算梯度\n",
    "    grad = network.numerical_gradient(x_batch, t_batch)\n",
    "    # grad = network.gradient(x_batch, t_batch) # 高速版!\n",
    "    # 更新参数\n",
    "    for key in ('W1', 'b1', 'W2', 'b2'):\n",
    "        network.params[key] -= learning_rate * grad[key]\n",
    "    # 记录学习过程\n",
    "    loss = network.loss(x_batch, t_batch)\n",
    "    train_loss_list.append(loss)"
   ]
  },
  {
   "cell_type": "markdown",
   "id": "e4cb290b",
   "metadata": {},
   "source": [
    "### 基于测试数据的评价"
   ]
  },
  {
   "cell_type": "code",
   "execution_count": null,
   "id": "004708b1",
   "metadata": {
    "ExecuteTime": {
     "start_time": "2024-06-29T15:41:53.797Z"
    }
   },
   "outputs": [],
   "source": [
    "import numpy as np\n",
    "from dataset.mnist import load_mnist\n",
    "from two_layer_net import TwoLayerNet\n",
    "(x_train, t_train), (x_test, t_test) =  load_mnist(normalize=True, one_hot_laobel = True)\n",
    "\n",
    "train_loss_list = []\n",
    "train_acc_list = []\n",
    "test_acc_list = []\n",
    "# 平均每个epoch的重复次数\n",
    "iter_per_epoch = max(train_size / batch_size, 1)\n",
    "\n",
    "# 超参数\n",
    "iters_num = 10000\n",
    "batch_size = 100\n",
    "learning_rate = 0.1\n",
    "\n",
    "network = TwoLayerNet(input_size=784, hidden_size=50, output_size=10)\n",
    "\n",
    "for i in range(iters_num):\n",
    "    # 获取mini-batch\n",
    "    batch_mask = np.random.choice(train_size, batch_size)\n",
    "    x_batch = x_train[batch_mask]\n",
    "    t_batch = t_train[batch_mask]\n",
    "    # 计算梯度\n",
    "    grad = network.numerical_gradient(x_batch, t_batch)\n",
    "    # grad = network.gradient(x_batch, t_batch) # 高速版!\n",
    "    # 更新参数\n",
    "    for key in ('W1', 'b1', 'W2', 'b2'):\n",
    "    network.params[key] -= learning_rate * grad[key]\n",
    "    loss = network.loss(x_batch, t_batch)\n",
    "    train_loss_list.append(loss)\n",
    "    # 计算每个epoch的识别精度\n",
    "    if i % iter_per_epoch == 0:\n",
    "        train_acc = network.accuracy(x_train, t_train)\n",
    "        test_acc = network.accuracy(x_test, t_test)\n",
    "        train_acc_list.append(train_acc)\n",
    "        test_acc_list.append(test_acc)\n",
    "        print(\"train acc, test acc | \" + str(train_acc) + \", \" + str(test_acc))"
   ]
  }
 ],
 "metadata": {
  "kernelspec": {
   "display_name": "Python 3 (ipykernel)",
   "language": "python",
   "name": "python3"
  },
  "language_info": {
   "codemirror_mode": {
    "name": "ipython",
    "version": 3
   },
   "file_extension": ".py",
   "mimetype": "text/x-python",
   "name": "python",
   "nbconvert_exporter": "python",
   "pygments_lexer": "ipython3",
   "version": "3.11.4"
  },
  "toc": {
   "base_numbering": 1,
   "nav_menu": {},
   "number_sections": true,
   "sideBar": true,
   "skip_h1_title": false,
   "title_cell": "Table of Contents",
   "title_sidebar": "Contents",
   "toc_cell": false,
   "toc_position": {},
   "toc_section_display": true,
   "toc_window_display": false
  }
 },
 "nbformat": 4,
 "nbformat_minor": 5
}
